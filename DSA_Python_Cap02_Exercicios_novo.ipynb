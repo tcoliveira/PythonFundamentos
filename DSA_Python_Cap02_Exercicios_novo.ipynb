{
  "nbformat": 4,
  "nbformat_minor": 0,
  "metadata": {
    "kernelspec": {
      "display_name": "Python 3",
      "language": "python",
      "name": "python3"
    },
    "language_info": {
      "codemirror_mode": {
        "name": "ipython",
        "version": 3
      },
      "file_extension": ".py",
      "mimetype": "text/x-python",
      "name": "python",
      "nbconvert_exporter": "python",
      "pygments_lexer": "ipython3",
      "version": "3.7.6"
    },
    "colab": {
      "name": "DSA-Python-Cap02-Exercicios.ipynb",
      "provenance": [],
      "include_colab_link": true
    }
  },
  "cells": [
    {
      "cell_type": "markdown",
      "metadata": {
        "id": "view-in-github",
        "colab_type": "text"
      },
      "source": [
        "<a href=\"https://colab.research.google.com/github/tcoliveira/PythonFundamentos/blob/master/DSA_Python_Cap02_Exercicios_novo.ipynb\" target=\"_parent\"><img src=\"https://colab.research.google.com/assets/colab-badge.svg\" alt=\"Open In Colab\"/></a>"
      ]
    },
    {
      "cell_type": "markdown",
      "metadata": {
        "id": "48AyBywulWHC"
      },
      "source": [
        "# <font color='blue'>Data Science Academy - Python Fundamentos - Capítulo 2</font>\n",
        "\n",
        "## Download: http://github.com/dsacademybr"
      ]
    },
    {
      "cell_type": "code",
      "metadata": {
        "id": "VTon7iR-lWHb"
      },
      "source": [
        "# Versão da Linguagem Python\n",
        "from platform import python_version\n",
        "print('Versão da Linguagem Python Usada Neste Jupyter Notebook:', python_version())"
      ],
      "execution_count": null,
      "outputs": []
    },
    {
      "cell_type": "markdown",
      "metadata": {
        "id": "LTzvc0_glWHf"
      },
      "source": [
        "## Exercícios Cap02"
      ]
    },
    {
      "cell_type": "code",
      "metadata": {
        "colab": {
          "base_uri": "https://localhost:8080/"
        },
        "id": "8d5qVWVTlWHg",
        "outputId": "0ebd56bc-c3f7-4053-9790-c0f6ac12bfe0"
      },
      "source": [
        "# Exercício 1 - Imprima na tela os números de 1 a 10. Use uma lista para armazenar os números.\r\n",
        "lista = [1,2,3,4,5,6,7,8,9,10]\r\n",
        "print(lista)"
      ],
      "execution_count": 1,
      "outputs": [
        {
          "output_type": "stream",
          "text": [
            "[1, 2, 3, 4, 5, 6, 7, 8, 9, 10]\n"
          ],
          "name": "stdout"
        }
      ]
    },
    {
      "cell_type": "code",
      "metadata": {
        "colab": {
          "base_uri": "https://localhost:8080/"
        },
        "id": "buh_akaJlWHi",
        "outputId": "d9c25fbd-854a-478a-cd40-d0a15ef6bce8"
      },
      "source": [
        "# Exercício 2 - Crie uma lista de 5 objetos e imprima na tela\r\n",
        "lista1 = ['a','b','c','d','e']\r\n",
        "print(lista1)"
      ],
      "execution_count": 3,
      "outputs": [
        {
          "output_type": "stream",
          "text": [
            "['a', 'b', 'c', 'd', 'e']\n"
          ],
          "name": "stdout"
        }
      ]
    },
    {
      "cell_type": "code",
      "metadata": {
        "colab": {
          "base_uri": "https://localhost:8080/"
        },
        "id": "U2mCd3XtlWHj",
        "outputId": "80ef3e98-7af7-4c52-c6cb-8bae9e923a2a"
      },
      "source": [
        "# Exercício 3 - Crie duas strings e concatene as duas em uma terceira string\r\n",
        "a = 'Hello'\r\n",
        "b = 'World'\r\n",
        "c=a+b\r\n",
        "print(c)"
      ],
      "execution_count": 5,
      "outputs": [
        {
          "output_type": "stream",
          "text": [
            "HelloWorld\n"
          ],
          "name": "stdout"
        }
      ]
    },
    {
      "cell_type": "code",
      "metadata": {
        "colab": {
          "base_uri": "https://localhost:8080/"
        },
        "id": "zmIlW41IlWHk",
        "outputId": "ef6d4f0e-ac02-4a72-e568-081fdd3b6cb3"
      },
      "source": [
        "# Exercício 4 - Crie uma tupla com os seguintes elementos: 1, 2, 2, 3, 4, 4, 4, 5 e depois utilize a função count do \n",
        "# objeto tupla para verificar quantas vezes o número 4 aparece na tupla\n",
        "tp = (1, 2, 2, 3, 4, 4, 4, 5)\n",
        "tp.count(4)"
      ],
      "execution_count": 6,
      "outputs": [
        {
          "output_type": "execute_result",
          "data": {
            "text/plain": [
              "3"
            ]
          },
          "metadata": {
            "tags": []
          },
          "execution_count": 6
        }
      ]
    },
    {
      "cell_type": "code",
      "metadata": {
        "colab": {
          "base_uri": "https://localhost:8080/"
        },
        "id": "IMal-Ec3lWHl",
        "outputId": "9dfddd9c-c3a7-41fe-cffe-979309bd85fd"
      },
      "source": [
        "# Exercício 5 - Crie um dicionário vazio e imprima na tela\r\n",
        "dc = {}\r\n",
        "print(dc)"
      ],
      "execution_count": 8,
      "outputs": [
        {
          "output_type": "stream",
          "text": [
            "{}\n"
          ],
          "name": "stdout"
        }
      ]
    },
    {
      "cell_type": "code",
      "metadata": {
        "colab": {
          "base_uri": "https://localhost:8080/"
        },
        "id": "2QfAKjzwlWHm",
        "outputId": "725b4ed0-dfdb-4b1e-b502-15222aa15626"
      },
      "source": [
        "# Exercício 6 - Crie um dicionário com 3 chaves e 3 valores e imprima na tela\r\n",
        "dc1 = {'1':'a','2':'b','3':'c'}\r\n",
        "print(dc1)\r\n",
        "type(dc1)"
      ],
      "execution_count": 11,
      "outputs": [
        {
          "output_type": "stream",
          "text": [
            "{'1': 'a', '2': 'b', '3': 'c'}\n"
          ],
          "name": "stdout"
        },
        {
          "output_type": "execute_result",
          "data": {
            "text/plain": [
              "dict"
            ]
          },
          "metadata": {
            "tags": []
          },
          "execution_count": 11
        }
      ]
    },
    {
      "cell_type": "code",
      "metadata": {
        "colab": {
          "base_uri": "https://localhost:8080/"
        },
        "id": "XSMzcnc5lWHn",
        "outputId": "384bd491-6ab4-451d-f061-b7c6b5d4b76b"
      },
      "source": [
        "# Exercício 7 - Adicione mais um elemento ao dicionário criado no exercício anterior e imprima na tela\r\n",
        "dc1['4'] = 'd'\r\n",
        "print(dc1)"
      ],
      "execution_count": 13,
      "outputs": [
        {
          "output_type": "stream",
          "text": [
            "{'1': 'a', '2': 'b', '3': 'c', '4': 'd'}\n"
          ],
          "name": "stdout"
        }
      ]
    },
    {
      "cell_type": "code",
      "metadata": {
        "colab": {
          "base_uri": "https://localhost:8080/"
        },
        "id": "UIShZeiblWHo",
        "outputId": "029921a1-74d0-4eb8-e54d-b2093eb3cbc5"
      },
      "source": [
        "# Exercício 8 - Crie um dicionário com 3 chaves e 3 valores. Um dos valores deve ser uma lista de 2 elementos numéricos. \n",
        "# Imprima o dicionário na tela.\n",
        "dc2 = {'n1': '1', 'n2':[1,2],'n3':'3'}\n",
        "print(dc2)\n",
        "type(dc2.values())\n"
      ],
      "execution_count": 20,
      "outputs": [
        {
          "output_type": "stream",
          "text": [
            "{'n1': '1', 'n2': [1, 2], 'n3': '3'}\n"
          ],
          "name": "stdout"
        },
        {
          "output_type": "execute_result",
          "data": {
            "text/plain": [
              "dict_values"
            ]
          },
          "metadata": {
            "tags": []
          },
          "execution_count": 20
        }
      ]
    },
    {
      "cell_type": "code",
      "metadata": {
        "colab": {
          "base_uri": "https://localhost:8080/"
        },
        "id": "F6HjKG-xlWHo",
        "outputId": "52fe46bc-ff07-44d4-ddfc-4e612135126e"
      },
      "source": [
        "# Exercício 9 - Crie uma lista de 4 elementos. O primeiro elemento deve ser uma string, \n",
        "# o segundo uma tupla de 2 elementos, o terceiro um dcionário com 2 chaves e 2 valores e \n",
        "# o quarto elemento um valor do tipo float.\n",
        "# Imprima a lista na tela.\n",
        "ls3 = ['a', (2,3),{'a':1,'b':2}, 2.3]\n",
        "print(ls3)"
      ],
      "execution_count": 22,
      "outputs": [
        {
          "output_type": "stream",
          "text": [
            "['a', (2, 3), {'a': 1, 'b': 2}, 2.3]\n"
          ],
          "name": "stdout"
        }
      ]
    },
    {
      "cell_type": "code",
      "metadata": {
        "colab": {
          "base_uri": "https://localhost:8080/"
        },
        "id": "CMqM0gn6lWHp",
        "outputId": "083148fd-a2e3-40e0-f33f-a7e9690c25bb"
      },
      "source": [
        "# Exercício 10 - Considere a string abaixo. Imprima na tela apenas os caracteres da posição 1 a 18.\n",
        "frase = 'Cientista de Dados é o profissional mais sexy do século XXI'\n",
        "##print(ls4[1] + ' ')\n",
        "ls4 = list(map(lambda i:i, frase)) \n",
        "print('posicao 1 '+ls4[0] + ' '+'posicao 18 '+ ls4[17])"
      ],
      "execution_count": 38,
      "outputs": [
        {
          "output_type": "stream",
          "text": [
            "posicao 1 C posicao 18 s\n"
          ],
          "name": "stdout"
        }
      ]
    },
    {
      "cell_type": "markdown",
      "metadata": {
        "id": "PvoTEVyClWHq"
      },
      "source": [
        "# Fim"
      ]
    },
    {
      "cell_type": "markdown",
      "metadata": {
        "id": "Rw8F2_58lWHr"
      },
      "source": [
        "### Obrigado - Data Science Academy - <a href=\"http://facebook.com/dsacademybr\">facebook.com/dsacademybr</a>"
      ]
    }
  ]
}